{
 "cells": [
  {
   "cell_type": "code",
   "execution_count": 1,
   "metadata": {},
   "outputs": [
    {
     "name": "stdout",
     "output_type": "stream",
     "text": [
      "[{'ano_filme': 2010, 'ator_principal': 'Leonardo DiCaprio', 'atriz_principal': 'Ellen Page', 'genero_filme': 'Ação/Ficção Científica', 'id_filme': 1, 'nome_filme': 'Inception'}, {'ano_filme': 1997, 'ator_principal': 'Leonardo DiCaprio', 'atriz_principal': 'Kate Winslet', 'genero_filme': 'Romance/Drama', 'id_filme': 2, 'nome_filme': 'Titanic'}, {'ano_filme': 1999, 'ator_principal': 'Keanu Reeves', 'atriz_principal': 'Carrie-Anne Moss', 'genero_filme': 'Ação/Ficção Científica', 'id_filme': 3, 'nome_filme': 'The Matrix'}, {'ano_filme': 2006, 'ator_principal': 'Meryl Streep', 'atriz_principal': 'Anne Hathaway', 'genero_filme': 'Comédia/Drama', 'id_filme': 4, 'nome_filme': 'The Devil Wears Prada'}, {'ano_filme': 2000, 'ator_principal': 'Russell Crowe', 'atriz_principal': 'Connie Nielsen', 'genero_filme': 'Ação/Drama', 'id_filme': 5, 'nome_filme': 'Gladiator'}, {'ano_filme': 1994, 'ator_principal': 'Tom Hanks', 'atriz_principal': 'Robin Wright', 'genero_filme': 'Drama', 'id_filme': 6, 'nome_filme': 'Forrest Gump'}, {'ano_filme': 1990, 'ator_principal': 'Richard Gere', 'atriz_principal': 'Julia Roberts', 'genero_filme': 'Romance/Comédia', 'id_filme': 7, 'nome_filme': 'Pretty Woman'}, {'ano_filme': 2009, 'ator_principal': 'Sam Worthington', 'atriz_principal': 'Zoe Saldana', 'genero_filme': 'Ação/Ficção Científica', 'id_filme': 8, 'nome_filme': 'Avatar'}, {'ano_filme': 1994, 'ator_principal': 'Tim Robbins', 'atriz_principal': 'Renee Blaine', 'genero_filme': 'Drama', 'id_filme': 9, 'nome_filme': 'The Shawshank Redemption'}, {'ano_filme': 2008, 'ator_principal': 'Christian Bale', 'atriz_principal': 'Maggie Gyllenhaal', 'genero_filme': 'Ação', 'id_filme': 10, 'nome_filme': 'The Dark Knight'}, {'ano_filme': 2016, 'ator_principal': 'Ryan Gosling', 'atriz_principal': 'Emma Stone', 'genero_filme': 'Romance/Musical', 'id_filme': 11, 'nome_filme': 'La La Land'}, {'ano_filme': 1972, 'ator_principal': 'Marlon Brando', 'atriz_principal': 'Diane Keaton', 'genero_filme': 'Crime/Drama', 'id_filme': 12, 'nome_filme': 'The Godfather'}, {'ano_filme': 1994, 'ator_principal': 'John Travolta', 'atriz_principal': 'Uma Thurman', 'genero_filme': 'Crime/Drama', 'id_filme': 13, 'nome_filme': 'Pulp Fiction'}, {'ano_filme': 2017, 'ator_principal': 'Chris Pine', 'atriz_principal': 'Gal Gadot', 'genero_filme': 'Ação/Fantasia', 'id_filme': 14, 'nome_filme': 'Wonder Woman'}, {'ano_filme': 2018, 'ator_principal': 'Bradley Cooper', 'atriz_principal': 'Lady Gaga', 'genero_filme': 'Romance/Drama', 'id_filme': 15, 'nome_filme': 'A Star is Born'}, {'ano_filme': 1993, 'ator_principal': 'Sam Neill', 'atriz_principal': 'Laura Dern', 'genero_filme': 'Ação/Ficção Científica', 'id_filme': 16, 'nome_filme': 'Jurassic Park'}, {'ano_filme': 1991, 'ator_principal': 'Anthony Hopkins', 'atriz_principal': 'Jodie Foster', 'genero_filme': 'Suspense/Crime', 'id_filme': 17, 'nome_filme': 'The Silence of the Lambs'}, {'ano_filme': 2018, 'ator_principal': 'Chadwick Boseman', 'atriz_principal': 'Lupita Nyong\\\\o', 'genero_filme': 'Ação/Ficção Científica', 'id_filme': 18, 'nome_filme': 'Black Panther'}, {'ano_filme': 1995, 'ator_principal': 'Mel Gibson', 'atriz_principal': 'Sophie Marceau', 'genero_filme': 'Ação/Drama', 'id_filme': 19, 'nome_filme': 'Braveheart'}, {'ano_filme': 1939, 'ator_principal': 'Clark Gable', 'atriz_principal': 'Vivien Leigh', 'genero_filme': 'Romance/Drama', 'id_filme': 20, 'nome_filme': 'Gone with the Wind'}]\n"
     ]
    }
   ],
   "source": [
    "import requests\n",
    "\n",
    "# retorna todos os filmes da lista\n",
    "response = requests.get('http://127.0.0.1:5000/filmes')\n",
    "print(response.json())"
   ]
  },
  {
   "cell_type": "code",
   "execution_count": 2,
   "metadata": {},
   "outputs": [
    {
     "name": "stdout",
     "output_type": "stream",
     "text": [
      "{'ano_filme': 2010, 'ator_principal': 'Leonardo DiCaprio', 'atriz_principal': 'Ellen Page', 'genero_filme': 'Ação/Ficção Científica', 'id_filme': 1, 'nome_filme': 'Inception'}\n"
     ]
    }
   ],
   "source": [
    "busca = {\"ano_filme\": 2010}\n",
    "response = requests.get('http://127.0.0.1:5000/filmes', params=busca)\n",
    "for i in response.json():\n",
    "    print(i)"
   ]
  },
  {
   "cell_type": "code",
   "execution_count": 3,
   "metadata": {},
   "outputs": [
    {
     "name": "stdout",
     "output_type": "stream",
     "text": [
      "{'ano_filme': 2010, 'ator_principal': 'Leonardo DiCaprio', 'atriz_principal': 'Ellen Page', 'genero_filme': 'Ação/Ficção Científica', 'id_filme': 1, 'nome_filme': 'Inception'}\n",
      "{'ano_filme': 1997, 'ator_principal': 'Leonardo DiCaprio', 'atriz_principal': 'Kate Winslet', 'genero_filme': 'Romance/Drama', 'id_filme': 2, 'nome_filme': 'Titanic'}\n"
     ]
    }
   ],
   "source": [
    "busca = {\"ator_principal\": \"Leonardo DiCaprio\"}\n",
    "response = requests.get('http://127.0.0.1:5000/filmes', params=busca)\n",
    "for i in response.json():\n",
    "    print(i)"
   ]
  },
  {
   "cell_type": "code",
   "execution_count": 4,
   "metadata": {},
   "outputs": [
    {
     "name": "stdout",
     "output_type": "stream",
     "text": [
      "{'message': 'Filme adicionado'}\n"
     ]
    }
   ],
   "source": [
    "# adicionando novo filme\n",
    "novo_filme = {'nome_filme': 'Interstellar', 'ano_filme': 2014, 'genero_filme': 'Ficção Científica/Aventura', 'ator_principal': 'Matthew McConaughey', 'atriz_principal': 'Anne Hathaway'}\n",
    "response = requests.post('http://127.0.0.1:5000/filmes', json=novo_filme)\n",
    "print(response.json())"
   ]
  },
  {
   "cell_type": "code",
   "execution_count": 5,
   "metadata": {},
   "outputs": [
    {
     "name": "stdout",
     "output_type": "stream",
     "text": [
      "{'ano_filme': 2014, 'ator_principal': 'Matthew McConaughey', 'atriz_principal': 'Anne Hathaway', 'genero_filme': 'Ficção Científica/Aventura', 'id_filme': 22, 'nome_filme': 'Interstellar'}\n"
     ]
    }
   ],
   "source": [
    "busca = {\"nome_filme\": 'Interstellar'}\n",
    "response = requests.get('http://127.0.0.1:5000/filmes', params=busca)\n",
    "for i in response.json():\n",
    "    print(i)"
   ]
  },
  {
   "cell_type": "code",
   "execution_count": 9,
   "metadata": {},
   "outputs": [
    {
     "name": "stdout",
     "output_type": "stream",
     "text": [
      "{'message': 'Filme atualizado'}\n"
     ]
    }
   ],
   "source": [
    "# atualizando genero do filme\n",
    "# se 23 não funcionar, mudar para 24 e assim por diante\n",
    "update_filme = {'nome_filme': 'Interstellar', 'ano_filme': 2014, 'genero_filme': 'Ficção Científica', 'ator_principal': 'Matthew McConaughey', 'atriz_principal': 'Anne Hathaway'}\n",
    "response = requests.put('http://127.0.0.1:5000/filmes/23', json=update_filme)\n",
    "print(response.json())"
   ]
  },
  {
   "cell_type": "code",
   "execution_count": 10,
   "metadata": {},
   "outputs": [
    {
     "name": "stdout",
     "output_type": "stream",
     "text": [
      "{'ano_filme': 2014, 'ator_principal': 'Matthew McConaughey', 'atriz_principal': 'Anne Hathaway', 'genero_filme': 'Ficção Científica', 'id_filme': 22, 'nome_filme': 'Interstellar'}\n"
     ]
    }
   ],
   "source": [
    "busca = {\"nome_filme\": 'Interstellar'}\n",
    "response = requests.get('http://127.0.0.1:5000/filmes', params=busca)\n",
    "for i in response.json():\n",
    "    print(i)"
   ]
  },
  {
   "cell_type": "code",
   "execution_count": 11,
   "metadata": {},
   "outputs": [
    {
     "name": "stdout",
     "output_type": "stream",
     "text": [
      "{'message': 'Filme removido'}\n"
     ]
    }
   ],
   "source": [
    "# deletando filme\n",
    "response = requests.delete('http://127.0.0.1:5000/filmes/23')\n",
    "print(response.json())"
   ]
  }
 ],
 "metadata": {
  "kernelspec": {
   "display_name": "base",
   "language": "python",
   "name": "python3"
  },
  "language_info": {
   "codemirror_mode": {
    "name": "ipython",
    "version": 3
   },
   "file_extension": ".py",
   "mimetype": "text/x-python",
   "name": "python",
   "nbconvert_exporter": "python",
   "pygments_lexer": "ipython3",
   "version": "3.12.4"
  }
 },
 "nbformat": 4,
 "nbformat_minor": 2
}
